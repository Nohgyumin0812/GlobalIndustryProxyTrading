{
  "cells": [
    {
      "cell_type": "markdown",
      "metadata": {
        "id": "view-in-github",
        "colab_type": "text"
      },
      "source": [
        "<a href=\"https://colab.research.google.com/github/Nohgyumin0812/GlobalIndustryProxyTrading/blob/main/global_industry_proxytrading.ipynb\" target=\"_parent\"><img src=\"https://colab.research.google.com/assets/colab-badge.svg\" alt=\"Open In Colab\"/></a>"
      ]
    },
    {
      "cell_type": "code",
      "execution_count": 16,
      "metadata": {
        "colab": {
          "base_uri": "https://localhost:8080/"
        },
        "id": "NOPTwGQnN9PF",
        "outputId": "7a4ff197-e17e-4d04-c7ff-5c27188aeb70"
      },
      "outputs": [
        {
          "output_type": "stream",
          "name": "stdout",
          "text": [
            "Requirement already satisfied: requests in /usr/local/lib/python3.10/dist-packages (2.31.0)\n",
            "Requirement already satisfied: charset-normalizer<4,>=2 in /usr/local/lib/python3.10/dist-packages (from requests) (3.3.2)\n",
            "Requirement already satisfied: idna<4,>=2.5 in /usr/local/lib/python3.10/dist-packages (from requests) (3.4)\n",
            "Requirement already satisfied: urllib3<3,>=1.21.1 in /usr/local/lib/python3.10/dist-packages (from requests) (2.0.7)\n",
            "Requirement already satisfied: certifi>=2017.4.17 in /usr/local/lib/python3.10/dist-packages (from requests) (2023.7.22)\n",
            "Requirement already satisfied: beautifulsoup4 in /usr/local/lib/python3.10/dist-packages (4.11.2)\n",
            "Requirement already satisfied: soupsieve>1.2 in /usr/local/lib/python3.10/dist-packages (from beautifulsoup4) (2.5)\n",
            "Requirement already satisfied: gspread in /usr/local/lib/python3.10/dist-packages (3.4.2)\n",
            "Requirement already satisfied: requests>=2.2.1 in /usr/local/lib/python3.10/dist-packages (from gspread) (2.31.0)\n",
            "Requirement already satisfied: google-auth in /usr/local/lib/python3.10/dist-packages (from gspread) (2.17.3)\n",
            "Requirement already satisfied: charset-normalizer<4,>=2 in /usr/local/lib/python3.10/dist-packages (from requests>=2.2.1->gspread) (3.3.2)\n",
            "Requirement already satisfied: idna<4,>=2.5 in /usr/local/lib/python3.10/dist-packages (from requests>=2.2.1->gspread) (3.4)\n",
            "Requirement already satisfied: urllib3<3,>=1.21.1 in /usr/local/lib/python3.10/dist-packages (from requests>=2.2.1->gspread) (2.0.7)\n",
            "Requirement already satisfied: certifi>=2017.4.17 in /usr/local/lib/python3.10/dist-packages (from requests>=2.2.1->gspread) (2023.7.22)\n",
            "Requirement already satisfied: cachetools<6.0,>=2.0.0 in /usr/local/lib/python3.10/dist-packages (from google-auth->gspread) (5.3.2)\n",
            "Requirement already satisfied: pyasn1-modules>=0.2.1 in /usr/local/lib/python3.10/dist-packages (from google-auth->gspread) (0.3.0)\n",
            "Requirement already satisfied: six>=1.9.0 in /usr/local/lib/python3.10/dist-packages (from google-auth->gspread) (1.16.0)\n",
            "Requirement already satisfied: rsa<5,>=3.1.4 in /usr/local/lib/python3.10/dist-packages (from google-auth->gspread) (4.9)\n",
            "Requirement already satisfied: pyasn1<0.6.0,>=0.4.6 in /usr/local/lib/python3.10/dist-packages (from pyasn1-modules>=0.2.1->google-auth->gspread) (0.5.0)\n"
          ]
        }
      ],
      "source": [
        "!pip install requests\n",
        "!pip install beautifulsoup4\n",
        "!pip install gspread"
      ]
    },
    {
      "cell_type": "code",
      "source": [
        "from google.colab import auth\n",
        "import gspread\n",
        "from google.auth import default\n",
        "import pandas as pd\n",
        "import requests\n",
        "from bs4 import BeautifulSoup\n",
        "from datetime import datetime\n",
        "import pytz"
      ],
      "metadata": {
        "id": "c7Vyez8dsp2u"
      },
      "execution_count": 17,
      "outputs": []
    },
    {
      "cell_type": "code",
      "source": [],
      "metadata": {
        "id": "pC0NdJ7Ozyd0"
      },
      "execution_count": 17,
      "outputs": []
    },
    {
      "cell_type": "code",
      "source": [],
      "metadata": {
        "id": "5h-P4gh8zywV"
      },
      "execution_count": 17,
      "outputs": []
    },
    {
      "cell_type": "code",
      "source": [
        "# 화학-에틸렌(워크시트2) / 납사(워크시트 3)\n",
        "import requests\n",
        "from requests.adapters import HTTPAdapter\n",
        "from urllib3.util.retry import Retry\n",
        "import chardet\n",
        "from time import sleep\n",
        "\n",
        "local_timezone = pytz.timezone('Asia/Seoul')\n",
        "auth.authenticate_user()\n",
        "creds, _ = default()\n",
        "gc = gspread.authorize(creds)\n",
        "\n",
        "sleep(1)\n",
        "url = 'https://www.koreapds.com/wacs/wms/kpds_price.php?large_cd=22'\n",
        "response = requests.get(url)\n",
        "soup = BeautifulSoup(response.text, 'html.parser',from_encoding='ISO-8859-1')\n",
        "nafta = soup.find_all('span', class_='price')[0].text.strip()\n",
        "ethy = soup.find_all('span', class_='price')[1].text.strip()\n",
        "\n",
        "current_date = datetime.now(local_timezone).date().strftime(\"%Y-%m-%d\")\n",
        "cell_list = [current_date,ethy]\n",
        "\n",
        "worksheet = gc.open('Global Industry Proxy_Trading').get_worksheet(1)\n",
        "raw_data = worksheet.get_all_values()\n",
        "\n",
        "df = pd.DataFrame(raw_data, columns=raw_data[0]).drop(0).reset_index(drop = True)\n",
        "\n",
        "if current_date == df.iloc[-1]['DATE']:\n",
        "  df.iloc[-1] = cell_list\n",
        "else:\n",
        "  df.loc[df.shape[0]+2] = cell_list\n",
        "\n",
        "worksheet.update([df.columns.values.tolist()] + df.values.tolist())  # 컬럼은 컬럼값만, 값들은 이중리스트로 df 변환\"\"\"\n",
        "\n",
        "worksheet = gc.open('Global Industry Proxy_Trading').get_worksheet(2) ## 나프타\n",
        "raw_data = worksheet.get_all_values()\n",
        "current_date = datetime.now(local_timezone).date().strftime(\"%Y-%m-%d\")\n",
        "cell_list = [current_date,nafta]\n",
        "\n",
        "df = pd.DataFrame(raw_data, columns=raw_data[0]).drop(0).reset_index(drop = True)\n",
        "\n",
        "if current_date == df.iloc[-1]['DATE']:\n",
        "  df.iloc[-1] = cell_list\n",
        "else:\n",
        "  df.loc[df.shape[0]+2] = cell_list\n",
        "\n",
        "worksheet.update([df.columns.values.tolist()] + df.values.tolist())  # 컬럼은 컬럼값만, 값들은 이중리스트로 df 변환\"\"\""
      ],
      "metadata": {
        "colab": {
          "base_uri": "https://localhost:8080/"
        },
        "id": "Eld1AiIhzzDM",
        "outputId": "13ccd2bf-62a4-4c76-9925-ce1ed9ef50b5"
      },
      "execution_count": 18,
      "outputs": [
        {
          "output_type": "stream",
          "name": "stderr",
          "text": [
            "/usr/local/lib/python3.10/dist-packages/bs4/__init__.py:226: UserWarning: You provided Unicode markup but also provided a value for from_encoding. Your from_encoding will be ignored.\n",
            "  warnings.warn(\"You provided Unicode markup but also provided a value for from_encoding. Your from_encoding will be ignored.\")\n"
          ]
        },
        {
          "output_type": "execute_result",
          "data": {
            "text/plain": [
              "{'spreadsheetId': '1haCnx_AugipQwMIfHKc2RC4tcQCMArUuXER4Ka0gNtc',\n",
              " 'updatedRange': \"'화학_납사'!A1:B47\",\n",
              " 'updatedRows': 47,\n",
              " 'updatedColumns': 2,\n",
              " 'updatedCells': 94}"
            ]
          },
          "metadata": {},
          "execution_count": 18
        }
      ]
    },
    {
      "cell_type": "code",
      "execution_count": 19,
      "metadata": {
        "id": "x5YLQIcozblP",
        "colab": {
          "base_uri": "https://localhost:8080/"
        },
        "outputId": "a91ed5b3-e942-4d55-e52a-a421f9853017"
      },
      "outputs": [
        {
          "output_type": "stream",
          "name": "stdout",
          "text": [
            "3.368\n",
            "1.574\n"
          ]
        },
        {
          "output_type": "execute_result",
          "data": {
            "text/plain": [
              "{'spreadsheetId': '1haCnx_AugipQwMIfHKc2RC4tcQCMArUuXER4Ka0gNtc',\n",
              " 'updatedRange': \"'반도체_DRAM'!A1:C7\",\n",
              " 'updatedRows': 7,\n",
              " 'updatedColumns': 3,\n",
              " 'updatedCells': 21}"
            ]
          },
          "metadata": {},
          "execution_count": 19
        }
      ],
      "source": [
        "# DRAM(워크시트 4)\n",
        "\n",
        "worksheet = gc.open('Global Industry Proxy_Trading').get_worksheet(3)\n",
        "\n",
        "url = 'https://www.dramexchange.com/'\n",
        "headers = {\n",
        "    'User-Agent': 'Mozilla/5.0 (Windows NT 10.0; Win64; x64) AppleWebKit/537.36 (KHTML, like Gecko) Chrome/91.0.4472.124 Safari/537.36'\n",
        "}\n",
        "response = requests.get(url)\n",
        "soup = BeautifulSoup(response.text, 'html.parser')\n",
        "\n",
        "dram_name_list = soup.find_all('td', class_ = 'tab_title')\n",
        "dram1_price = soup.find_all('td', class_='tab_tr_gray')[4].text.strip()\n",
        "dram2_price = soup.find_all('td', class_='tab_tr_gray')[16].text.strip()\n",
        "\n",
        "print(dram1_price) # session_average\n",
        "print(dram2_price) # session_average\n",
        "\n",
        "raw_data = worksheet.get_all_values()\n",
        "current_date = datetime.now(local_timezone).date().strftime(\"%Y-%m-%d\")\n",
        "cell_list = [current_date, dram1_price, dram2_price]\n",
        "\n",
        "df = pd.DataFrame(raw_data, columns=raw_data[0]).drop(0)[['Date' ,'DDR4 16Gb (1Gx16)3200' ,'DDR4 8Gb (1Gx8) 3200']]\n",
        "if current_date == list(df.Date)[-1]:\n",
        "  df.iloc[-1] = cell_list\n",
        "else:\n",
        "  df.loc[df.shape[0]+1] = cell_list\n",
        "\n",
        "worksheet.update([df.columns.values.tolist()] + df.values.tolist())  # 컬럼은 컬럼값만, 값들은 이중리스트로 df 변환"
      ]
    },
    {
      "cell_type": "code",
      "source": [
        "#2차전지-리튬 워크시트 5\n",
        "url = 'https://www.kores.net/komis/price/mineralprice/minormetals/pricetrend/minorMetals.do?mnrl_pc_mc_seq=516'\n",
        "response = requests.get(url, verify = False)\n",
        "soup = BeautifulSoup(response.text, 'html.parser')\n",
        "\n",
        "\n",
        "date = soup.find_all('td', class_ = 'fst')[-2].text.strip()\n",
        "lit = soup.find('table').find_all('td')[-9].text.strip()\n",
        "\n",
        "worksheet = gc.open('Global Industry Proxy_Trading').get_worksheet(4)\n",
        "cell_list = [date, lit]\n",
        "print(cell_list)\n",
        "raw_data = worksheet.get_all_values()\n",
        "\n",
        "df = pd.DataFrame(raw_data, columns=raw_data[0]).drop(0).reset_index(drop = True)\n",
        "\n",
        "if date == df.iloc[-1]['DATE']:\n",
        "  df.iloc[-1] = cell_list\n",
        "else:\n",
        "  df.loc[df.shape[0]+2] = cell_list\n",
        "\n",
        "worksheet.update([df.columns.values.tolist()] + df.values.tolist())  # 컬럼은 컬럼값만, 값들은 이중리스트로 df 변환\"\"\""
      ],
      "metadata": {
        "id": "QHxAUrtZyH-F",
        "colab": {
          "base_uri": "https://localhost:8080/"
        },
        "outputId": "82b89b34-2084-4ca9-875b-f4e6fee905d2"
      },
      "execution_count": 23,
      "outputs": [
        {
          "output_type": "stream",
          "name": "stderr",
          "text": [
            "/usr/local/lib/python3.10/dist-packages/urllib3/connectionpool.py:1100: InsecureRequestWarning: Unverified HTTPS request is being made to host 'www.kores.net'. Adding certificate verification is strongly advised. See: https://urllib3.readthedocs.io/en/latest/advanced-usage.html#tls-warnings\n",
            "  warnings.warn(\n"
          ]
        },
        {
          "output_type": "stream",
          "name": "stdout",
          "text": [
            "['2023-11-29', '109.50']\n"
          ]
        },
        {
          "output_type": "execute_result",
          "data": {
            "text/plain": [
              "{'spreadsheetId': '1haCnx_AugipQwMIfHKc2RC4tcQCMArUuXER4Ka0gNtc',\n",
              " 'updatedRange': \"'2차전지_리튬'!A1:B219\",\n",
              " 'updatedRows': 219,\n",
              " 'updatedColumns': 2,\n",
              " 'updatedCells': 438}"
            ]
          },
          "metadata": {},
          "execution_count": 23
        }
      ]
    },
    {
      "cell_type": "code",
      "source": [
        "#신조선가- 벌커 워크시트 6\n",
        "\n",
        "url = 'https://www.kobc.or.kr/ebz/shippinginfo/sln/gridList.do?mId=0401000000'\n",
        "response = requests.get(url)\n",
        "soup = BeautifulSoup(response.text, 'html.parser')\n",
        "table = soup.find('table', class_ = 'TbCommon')\n",
        "worksheet = gc.open('Global Industry Proxy_Trading').get_worksheet(5)\n",
        "\n",
        "\n",
        "date = table.find_all('td')[0].text.strip()\n",
        "cape =  table.find_all('td')[1].text.strip()\n",
        "kamsarmax =  table.find_all('td')[2].text.strip()\n",
        "ultramax =  table.find_all('td')[3].text.strip()\n",
        "handy =  table.find_all('td')[4].text.strip()\n",
        "\n",
        "cell_list = [date, cape, kamsarmax, ultramax, handy]\n",
        "\n",
        "raw_data = worksheet.get_all_values()\n",
        "\n",
        "df = pd.DataFrame(raw_data, columns=raw_data[0]).drop(0).reset_index(drop = True)\n",
        "\n",
        "if date == df.iloc[-1]['DATE']:\n",
        "  df.iloc[-1] = cell_list\n",
        "else:\n",
        "  df.loc[df.shape[0]+2] = cell_list\n",
        "\n",
        "worksheet.update([df.columns.values.tolist()] + df.values.tolist())  # 컬럼은 컬럼값만, 값들은 이중리스트로 df 변환"
      ],
      "metadata": {
        "id": "DfhU_SXzsi09",
        "colab": {
          "base_uri": "https://localhost:8080/"
        },
        "outputId": "8e8eace7-0324-452f-b285-c087b2c2c53e"
      },
      "execution_count": 21,
      "outputs": [
        {
          "output_type": "execute_result",
          "data": {
            "text/plain": [
              "{'spreadsheetId': '1haCnx_AugipQwMIfHKc2RC4tcQCMArUuXER4Ka0gNtc',\n",
              " 'updatedRange': \"'신조선가_벌커'!A1:E48\",\n",
              " 'updatedRows': 48,\n",
              " 'updatedColumns': 5,\n",
              " 'updatedCells': 240}"
            ]
          },
          "metadata": {},
          "execution_count": 21
        }
      ]
    },
    {
      "cell_type": "code",
      "source": [
        "#신조선가- 벌커 워크시트 7\n",
        "\n",
        "\n",
        "url = 'https://www.kobc.or.kr/ebz/shippinginfo/stn/gridList.do?mId=0401000000'\n",
        "response = requests.get(url)\n",
        "soup = BeautifulSoup(response.text, 'html.parser')\n",
        "table = soup.find('table', class_ = 'TbCommon')\n",
        "worksheet = gc.open('Global Industry Proxy_Trading').get_worksheet(6)\n",
        "\n",
        "\n",
        "date = table.find_all('td')[0].text.strip()\n",
        "vlcc =  table.find_all('td')[1].text.strip()\n",
        "suezmax =  table.find_all('td')[2].text.strip()\n",
        "aframax =  table.find_all('td')[3].text.strip()\n",
        "lr2 =  table.find_all('td')[4].text.strip()\n",
        "lr1 =  table.find_all('td')[4].text.strip()\n",
        "mr =  table.find_all('td')[4].text.strip()\n",
        "\n",
        "cell_list = [date, vlcc,suezmax,aframax,lr2,lr1,mr]\n",
        "\n",
        "raw_data = worksheet.get_all_values()\n",
        "\n",
        "df = pd.DataFrame(raw_data, columns=raw_data[0]).drop(0).reset_index(drop = True)\n",
        "\n",
        "if date == df.iloc[-1]['DATE']:\n",
        "  df.iloc[-1] = cell_list\n",
        "else:\n",
        "  df.loc[df.shape[0]+2] = cell_list\n",
        "\n",
        "worksheet.update([df.columns.values.tolist()] + df.values.tolist())  # 컬럼은 컬럼값만, 값들은 이중리스트로 df 변환"
      ],
      "metadata": {
        "id": "O5MUR0bVsi-t",
        "colab": {
          "base_uri": "https://localhost:8080/"
        },
        "outputId": "3a61d35c-56f9-4f4c-eded-09a31d9d2025"
      },
      "execution_count": 22,
      "outputs": [
        {
          "output_type": "execute_result",
          "data": {
            "text/plain": [
              "{'spreadsheetId': '1haCnx_AugipQwMIfHKc2RC4tcQCMArUuXER4Ka0gNtc',\n",
              " 'updatedRange': \"'신조선가_탱커'!A1:G48\",\n",
              " 'updatedRows': 48,\n",
              " 'updatedColumns': 7,\n",
              " 'updatedCells': 336}"
            ]
          },
          "metadata": {},
          "execution_count": 22
        }
      ]
    }
  ],
  "metadata": {
    "colab": {
      "provenance": [],
      "mount_file_id": "1eCL7_wxwyz1rPO3Z-Vft6WeI8HhA7a7n",
      "authorship_tag": "ABX9TyNIy08gAlTCVfqF0DGSs4HQ",
      "include_colab_link": true
    },
    "kernelspec": {
      "display_name": "Python 3",
      "name": "python3"
    },
    "language_info": {
      "name": "python"
    }
  },
  "nbformat": 4,
  "nbformat_minor": 0
}