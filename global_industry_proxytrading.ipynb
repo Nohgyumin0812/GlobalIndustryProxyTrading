{
  "cells": [
    {
      "cell_type": "markdown",
      "metadata": {
        "id": "view-in-github",
        "colab_type": "text"
      },
      "source": [
        "<a href=\"https://colab.research.google.com/github/Nohgyumin0812/GlobalIndustryProxyTrading/blob/main/global_industry_proxytrading.ipynb\" target=\"_parent\"><img src=\"https://colab.research.google.com/assets/colab-badge.svg\" alt=\"Open In Colab\"/></a>"
      ]
    },
    {
      "cell_type": "code",
      "execution_count": 52,
      "metadata": {
        "colab": {
          "base_uri": "https://localhost:8080/"
        },
        "id": "NOPTwGQnN9PF",
        "outputId": "48c0cf02-913d-47c8-db32-eba4aa57642d"
      },
      "outputs": [
        {
          "output_type": "stream",
          "name": "stdout",
          "text": [
            "Requirement already satisfied: requests in /usr/local/lib/python3.10/dist-packages (2.31.0)\n",
            "Requirement already satisfied: charset-normalizer<4,>=2 in /usr/local/lib/python3.10/dist-packages (from requests) (3.3.2)\n",
            "Requirement already satisfied: idna<4,>=2.5 in /usr/local/lib/python3.10/dist-packages (from requests) (3.6)\n",
            "Requirement already satisfied: urllib3<3,>=1.21.1 in /usr/local/lib/python3.10/dist-packages (from requests) (2.0.7)\n",
            "Requirement already satisfied: certifi>=2017.4.17 in /usr/local/lib/python3.10/dist-packages (from requests) (2023.11.17)\n",
            "Requirement already satisfied: beautifulsoup4 in /usr/local/lib/python3.10/dist-packages (4.11.2)\n",
            "Requirement already satisfied: soupsieve>1.2 in /usr/local/lib/python3.10/dist-packages (from beautifulsoup4) (2.5)\n",
            "Requirement already satisfied: gspread in /usr/local/lib/python3.10/dist-packages (3.4.2)\n",
            "Requirement already satisfied: requests>=2.2.1 in /usr/local/lib/python3.10/dist-packages (from gspread) (2.31.0)\n",
            "Requirement already satisfied: google-auth in /usr/local/lib/python3.10/dist-packages (from gspread) (2.17.3)\n",
            "Requirement already satisfied: charset-normalizer<4,>=2 in /usr/local/lib/python3.10/dist-packages (from requests>=2.2.1->gspread) (3.3.2)\n",
            "Requirement already satisfied: idna<4,>=2.5 in /usr/local/lib/python3.10/dist-packages (from requests>=2.2.1->gspread) (3.6)\n",
            "Requirement already satisfied: urllib3<3,>=1.21.1 in /usr/local/lib/python3.10/dist-packages (from requests>=2.2.1->gspread) (2.0.7)\n",
            "Requirement already satisfied: certifi>=2017.4.17 in /usr/local/lib/python3.10/dist-packages (from requests>=2.2.1->gspread) (2023.11.17)\n",
            "Requirement already satisfied: cachetools<6.0,>=2.0.0 in /usr/local/lib/python3.10/dist-packages (from google-auth->gspread) (5.3.2)\n",
            "Requirement already satisfied: pyasn1-modules>=0.2.1 in /usr/local/lib/python3.10/dist-packages (from google-auth->gspread) (0.3.0)\n",
            "Requirement already satisfied: six>=1.9.0 in /usr/local/lib/python3.10/dist-packages (from google-auth->gspread) (1.16.0)\n",
            "Requirement already satisfied: rsa<5,>=3.1.4 in /usr/local/lib/python3.10/dist-packages (from google-auth->gspread) (4.9)\n",
            "Requirement already satisfied: pyasn1<0.6.0,>=0.4.6 in /usr/local/lib/python3.10/dist-packages (from pyasn1-modules>=0.2.1->google-auth->gspread) (0.5.1)\n"
          ]
        }
      ],
      "source": [
        "!pip install requests\n",
        "!pip install beautifulsoup4\n",
        "!pip install gspread"
      ]
    },
    {
      "cell_type": "code",
      "source": [
        "from google.colab import auth\n",
        "import gspread\n",
        "from google.auth import default\n",
        "import pandas as pd\n",
        "import requests\n",
        "from bs4 import BeautifulSoup\n",
        "from datetime import datetime\n",
        "import pytz"
      ],
      "metadata": {
        "id": "c7Vyez8dsp2u"
      },
      "execution_count": 53,
      "outputs": []
    },
    {
      "cell_type": "code",
      "source": [],
      "metadata": {
        "id": "pC0NdJ7Ozyd0"
      },
      "execution_count": 53,
      "outputs": []
    },
    {
      "cell_type": "code",
      "source": [],
      "metadata": {
        "id": "5h-P4gh8zywV"
      },
      "execution_count": 53,
      "outputs": []
    },
    {
      "cell_type": "code",
      "source": [
        "# 화학-에틸렌(워크시트2) / 납사(워크시트 3)\n",
        "import requests\n",
        "from requests.adapters import HTTPAdapter\n",
        "from urllib3.util.retry import Retry\n",
        "import chardet\n",
        "from time import sleep\n",
        "\n",
        "local_timezone = pytz.timezone('Asia/Seoul')\n",
        "auth.authenticate_user()\n",
        "creds, _ = default()\n",
        "gc = gspread.authorize(creds)\n",
        "\n",
        "sleep(1)\n",
        "url = 'https://www.koreapds.com/wacs/wms/kpds_price.php?large_cd=22'\n",
        "response = requests.get(url)\n",
        "soup = BeautifulSoup(response.text, 'html.parser',from_encoding='ISO-8859-1')\n",
        "nafta = float(soup.find_all('span', class_='price')[0].text.strip())\n",
        "ethy = float(soup.find_all('span', class_='price')[1].text.strip())\n",
        "\n",
        "current_date = datetime.now(local_timezone).date().strftime(\"%Y-%m-%d\")\n",
        "cell_list = [current_date,ethy]\n",
        "\n",
        "worksheet = gc.open('Global Industry Proxy_Trading').get_worksheet(1)\n",
        "raw_data = worksheet.get_all_values()\n",
        "print(raw_data)\n",
        "\n",
        "df = pd.DataFrame(raw_data, columns=raw_data[0]).drop(0).reset_index(drop = True)\n",
        "df.loc[:, ~df.columns.isin(['DATE'])] = df.loc[:, ~df.columns.isin(['DATE'])].astype(float)\n",
        "\n",
        "if current_date == df.iloc[-1]['DATE']:\n",
        "  df.iloc[-1] = cell_list\n",
        "else:\n",
        "  df.loc[df.shape[0]+2] = cell_list\n",
        "\n",
        "worksheet.update([df.columns.values.tolist()] + df.values.tolist())  # 컬럼은 컬럼값만, 값들은 이중리스트로 df 변환\"\"\"\n",
        "\n",
        "worksheet = gc.open('Global Industry Proxy_Trading').get_worksheet(2) ## 나프타\n",
        "raw_data = worksheet.get_all_values()\n",
        "current_date = datetime.now(local_timezone).date().strftime(\"%Y-%m-%d\")\n",
        "cell_list = [current_date,nafta]\n",
        "\n",
        "df = pd.DataFrame(raw_data, columns=raw_data[0]).drop(0).reset_index(drop = True)\n",
        "df.loc[:, ~df.columns.isin(['DATE'])] = df.loc[:, ~df.columns.isin(['DATE'])].astype(float)\n",
        "\n",
        "if current_date == df.iloc[-1]['DATE']:\n",
        "  df.iloc[-1] = cell_list\n",
        "else:\n",
        "  df.loc[df.shape[0]+2] = cell_list\n",
        "\n",
        "worksheet.update([df.columns.values.tolist()] + df.values.tolist())  # 컬럼은 컬럼값만, 값들은 이중리스트로 df 변환\"\"\""
      ],
      "metadata": {
        "colab": {
          "base_uri": "https://localhost:8080/"
        },
        "id": "Eld1AiIhzzDM",
        "outputId": "4ade2c56-51f4-49bb-af03-79762f02a952"
      },
      "execution_count": 54,
      "outputs": [
        {
          "output_type": "stream",
          "name": "stderr",
          "text": [
            "/usr/local/lib/python3.10/dist-packages/bs4/__init__.py:226: UserWarning: You provided Unicode markup but also provided a value for from_encoding. Your from_encoding will be ignored.\n",
            "  warnings.warn(\"You provided Unicode markup but also provided a value for from_encoding. Your from_encoding will be ignored.\")\n"
          ]
        },
        {
          "output_type": "stream",
          "name": "stdout",
          "text": [
            "[['DATE', '기준가격'], ['2023-01-06', '800'], ['2023-01-13', '770'], ['2023-01-20', '735'], ['2023-01-27', '750'], ['2023-02-03', '860'], ['2023-02-10', '875'], ['2023-02-17', '900'], ['2023-02-24', '930'], ['2023-03-03', '930'], ['2023-03-10', '930'], ['2023-03-17', '920'], ['2023-03-24', '920'], ['2023-03-31', '910'], ['2023-04-07', '910'], ['2023-04-14', '910'], ['2023-04-21', '900'], ['2023-04-28', '900'], ['2023-05-05', '870'], ['2023-05-12', '850'], ['2023-05-19', '840'], ['2023-05-26', '820'], ['2023-06-02', '820'], ['2023-06-09', '750'], ['2023-06-16', '715'], ['2023-06-23', '715'], ['2023-06-30', '730'], ['2023-07-07', '730'], ['2023-07-14', '730'], ['2023-07-21', '750'], ['2023-07-28', '750'], ['2023-08-04', '790'], ['2023-08-11', '790'], ['2023-08-18', '810'], ['2023-08-25', '810'], ['2023-09-01', '810'], ['2023-09-08', '810'], ['2023-09-15', '820'], ['2023-09-22', '870'], ['2023-09-29', '870'], ['2023-10-06', '870'], ['2023-10-13', '870'], ['2023-10-20', '870'], ['2023-10-27', '870'], ['2023-11-03', '855'], ['2023-11-10', '850'], ['2023-11-17', '850'], ['2023-11-24', '850'], ['2023-12-01', '850'], ['2023-12-04', '850'], ['2023-12-05', '850']]\n"
          ]
        },
        {
          "output_type": "execute_result",
          "data": {
            "text/plain": [
              "{'spreadsheetId': '1haCnx_AugipQwMIfHKc2RC4tcQCMArUuXER4Ka0gNtc',\n",
              " 'updatedRange': \"'화학_납사'!A1:B49\",\n",
              " 'updatedRows': 49,\n",
              " 'updatedColumns': 2,\n",
              " 'updatedCells': 98}"
            ]
          },
          "metadata": {},
          "execution_count": 54
        }
      ]
    },
    {
      "cell_type": "code",
      "execution_count": 55,
      "metadata": {
        "id": "x5YLQIcozblP",
        "colab": {
          "base_uri": "https://localhost:8080/"
        },
        "outputId": "c73b1070-ea63-451c-f09f-c52e7a5dfba6"
      },
      "outputs": [
        {
          "output_type": "stream",
          "name": "stdout",
          "text": [
            "3.446\n",
            "1.59\n"
          ]
        },
        {
          "output_type": "execute_result",
          "data": {
            "text/plain": [
              "{'spreadsheetId': '1haCnx_AugipQwMIfHKc2RC4tcQCMArUuXER4Ka0gNtc',\n",
              " 'updatedRange': \"'반도체_DRAM'!A1:C8\",\n",
              " 'updatedRows': 8,\n",
              " 'updatedColumns': 3,\n",
              " 'updatedCells': 24}"
            ]
          },
          "metadata": {},
          "execution_count": 55
        }
      ],
      "source": [
        "# DRAM(워크시트 4)\n",
        "\n",
        "worksheet = gc.open('Global Industry Proxy_Trading').get_worksheet(3)\n",
        "\n",
        "url = 'https://www.dramexchange.com/'\n",
        "headers = {\n",
        "    'User-Agent': 'Mozilla/5.0 (Windows NT 10.0; Win64; x64) AppleWebKit/537.36 (KHTML, like Gecko) Chrome/91.0.4472.124 Safari/537.36'\n",
        "}\n",
        "response = requests.get(url)\n",
        "soup = BeautifulSoup(response.text, 'html.parser')\n",
        "\n",
        "dram_name_list = soup.find_all('td', class_ = 'tab_title')\n",
        "dram1_price = float(soup.find_all('td', class_='tab_tr_gray')[4].text.strip())\n",
        "dram2_price = float(soup.find_all('td', class_='tab_tr_gray')[16].text.strip())\n",
        "\n",
        "print(dram1_price) # session_average\n",
        "print(dram2_price) # session_average\n",
        "\n",
        "raw_data = worksheet.get_all_values()\n",
        "current_date = datetime.now(local_timezone).date().strftime(\"%Y-%m-%d\")\n",
        "cell_list = [current_date, dram1_price, dram2_price]\n",
        "\n",
        "df = pd.DataFrame(raw_data, columns=raw_data[0]).drop(0)\n",
        "df.loc[:, ~df.columns.isin(['DATE'])] = df.loc[:, ~df.columns.isin(['DATE'])].astype(float)\n",
        "\n",
        "if current_date == list(df.DATE)[-1]:\n",
        "  df.iloc[-1] = cell_list\n",
        "else:\n",
        "  df.loc[df.shape[0]+1] = cell_list\n",
        "\n",
        "worksheet.update([df.columns.values.tolist()] + df.values.tolist())  # 컬럼은 컬럼값만, 값들은 이중리스트로 df 변환"
      ]
    },
    {
      "cell_type": "code",
      "source": [
        "#2차전지-리튬 워크시트 5\n",
        "url = 'https://www.kores.net/komis/price/mineralprice/minormetals/pricetrend/minorMetals.do?mnrl_pc_mc_seq=516'\n",
        "response = requests.get(url, verify = False)\n",
        "soup = BeautifulSoup(response.text, 'html.parser')\n",
        "\n",
        "\n",
        "date = soup.find_all('td', class_ = 'fst')[-2].text.strip()\n",
        "lit = float(soup.find('table').find_all('td')[-9].text.strip())\n",
        "\n",
        "worksheet = gc.open('Global Industry Proxy_Trading').get_worksheet(4)\n",
        "cell_list = [date, lit]\n",
        "print(cell_list)\n",
        "raw_data = worksheet.get_all_values()\n",
        "\n",
        "df = pd.DataFrame(raw_data, columns=raw_data[0]).drop(0).reset_index(drop = True)\n",
        "df.loc[:, ~df.columns.isin(['DATE'])] = df.loc[:, ~df.columns.isin(['DATE'])].astype(float)\n",
        "\n",
        "\n",
        "if date == df.iloc[-1]['DATE']:\n",
        "  df.iloc[-1] = cell_list\n",
        "else:\n",
        "  df.loc[df.shape[0]+2] = cell_list\n",
        "\n",
        "worksheet.update([df.columns.values.tolist()] + df.values.tolist())  # 컬럼은 컬럼값만, 값들은 이중리스트로 df 변환\"\"\""
      ],
      "metadata": {
        "id": "QHxAUrtZyH-F",
        "colab": {
          "base_uri": "https://localhost:8080/"
        },
        "outputId": "5af05628-6f85-42a2-c2c6-8dd45fc2257c"
      },
      "execution_count": 56,
      "outputs": [
        {
          "output_type": "stream",
          "name": "stderr",
          "text": [
            "/usr/local/lib/python3.10/dist-packages/urllib3/connectionpool.py:1100: InsecureRequestWarning: Unverified HTTPS request is being made to host 'www.kores.net'. Adding certificate verification is strongly advised. See: https://urllib3.readthedocs.io/en/latest/advanced-usage.html#tls-warnings\n",
            "  warnings.warn(\n"
          ]
        },
        {
          "output_type": "stream",
          "name": "stdout",
          "text": [
            "['2023-12-04', 100.5]\n"
          ]
        },
        {
          "output_type": "execute_result",
          "data": {
            "text/plain": [
              "{'spreadsheetId': '1haCnx_AugipQwMIfHKc2RC4tcQCMArUuXER4Ka0gNtc',\n",
              " 'updatedRange': \"'2차전지_리튬'!A1:B220\",\n",
              " 'updatedRows': 220,\n",
              " 'updatedColumns': 2,\n",
              " 'updatedCells': 440}"
            ]
          },
          "metadata": {},
          "execution_count": 56
        }
      ]
    },
    {
      "cell_type": "code",
      "source": [
        "#신조선가- 벌커 워크시트 6\n",
        "\n",
        "url = 'https://www.kobc.or.kr/ebz/shippinginfo/sln/gridList.do?mId=0401000000'\n",
        "response = requests.get(url)\n",
        "soup = BeautifulSoup(response.text, 'html.parser')\n",
        "table = soup.find('table', class_ = 'TbCommon')\n",
        "worksheet = gc.open('Global Industry Proxy_Trading').get_worksheet(5)\n",
        "\n",
        "\n",
        "date = table.find_all('td')[0].text.strip()\n",
        "cape =  float(table.find_all('td')[1].text.strip())\n",
        "kamsarmax =  float(table.find_all('td')[2].text.strip())\n",
        "ultramax =  float(table.find_all('td')[3].text.strip())\n",
        "handy =  float(table.find_all('td')[4].text.strip())\n",
        "\n",
        "cell_list = [date, cape, kamsarmax, ultramax, handy]\n",
        "\n",
        "raw_data = worksheet.get_all_values()\n",
        "\n",
        "df = pd.DataFrame(raw_data, columns=raw_data[0]).drop(0).reset_index(drop = True)\n",
        "df.loc[:, ~df.columns.isin(['DATE'])] = df.loc[:, ~df.columns.isin(['DATE'])].astype(float)\n",
        "\n",
        "\n",
        "if date == df.iloc[-1]['DATE']:\n",
        "  df.iloc[-1] = cell_list\n",
        "else:\n",
        "  df.loc[df.shape[0]+2] = cell_list\n",
        "\n",
        "worksheet.update([df.columns.values.tolist()] + df.values.tolist())  # 컬럼은 컬럼값만, 값들은 이중리스트로 df 변환"
      ],
      "metadata": {
        "id": "DfhU_SXzsi09",
        "colab": {
          "base_uri": "https://localhost:8080/"
        },
        "outputId": "b221758d-e4aa-40aa-99bf-c84531296932"
      },
      "execution_count": 57,
      "outputs": [
        {
          "output_type": "execute_result",
          "data": {
            "text/plain": [
              "{'spreadsheetId': '1haCnx_AugipQwMIfHKc2RC4tcQCMArUuXER4Ka0gNtc',\n",
              " 'updatedRange': \"'신조선가_벌커'!A1:E49\",\n",
              " 'updatedRows': 49,\n",
              " 'updatedColumns': 5,\n",
              " 'updatedCells': 245}"
            ]
          },
          "metadata": {},
          "execution_count": 57
        }
      ]
    },
    {
      "cell_type": "code",
      "source": [
        "#신조선가- 탱커 워크시트 7\n",
        "\n",
        "\n",
        "url = 'https://www.kobc.or.kr/ebz/shippinginfo/stn/gridList.do?mId=0401000000'\n",
        "response = requests.get(url)\n",
        "soup = BeautifulSoup(response.text, 'html.parser')\n",
        "table = soup.find('table', class_ = 'TbCommon')\n",
        "worksheet = gc.open('Global Industry Proxy_Trading').get_worksheet(6)\n",
        "\n",
        "\n",
        "date = table.find_all('td')[0].text.strip()\n",
        "vlcc =  float(table.find_all('td')[1].text.strip())\n",
        "suezmax =  float(table.find_all('td')[2].text.strip())\n",
        "aframax =  float(table.find_all('td')[3].text.strip())\n",
        "lr2 =  float(table.find_all('td')[4].text.strip())\n",
        "lr1 =  float(table.find_all('td')[5].text.strip())\n",
        "mr =  float(table.find_all('td')[6].text.strip())\n",
        "\n",
        "cell_list = [date, vlcc,suezmax,aframax,lr2,lr1,mr]\n",
        "\n",
        "raw_data = worksheet.get_all_values()\n",
        "\n",
        "df = pd.DataFrame(raw_data, columns=raw_data[0]).drop(0).reset_index(drop = True)\n",
        "df.loc[:, ~df.columns.isin(['DATE'])] = df.loc[:, ~df.columns.isin(['DATE'])].astype(float)\n",
        "\n",
        "\n",
        "if date == df.iloc[-1]['DATE']:\n",
        "  df.iloc[-1] = cell_list\n",
        "else:\n",
        "  df.loc[df.shape[0]+2] = cell_list\n",
        "\n",
        "worksheet.update([df.columns.values.tolist()] + df.values.tolist())  # 컬럼은 컬럼값만, 값들은 이중리스트로 df 변환"
      ],
      "metadata": {
        "id": "O5MUR0bVsi-t",
        "colab": {
          "base_uri": "https://localhost:8080/"
        },
        "outputId": "dffe5af0-0b98-480a-95d8-8b453c83c292"
      },
      "execution_count": 58,
      "outputs": [
        {
          "output_type": "execute_result",
          "data": {
            "text/plain": [
              "{'spreadsheetId': '1haCnx_AugipQwMIfHKc2RC4tcQCMArUuXER4Ka0gNtc',\n",
              " 'updatedRange': \"'신조선가_탱커'!A1:G49\",\n",
              " 'updatedRows': 49,\n",
              " 'updatedColumns': 7,\n",
              " 'updatedCells': 343}"
            ]
          },
          "metadata": {},
          "execution_count": 58
        }
      ]
    },
    {
      "cell_type": "code",
      "source": [
        "#BDI-  발틱운임지수 워크시트 8\n",
        "\n",
        "\n",
        "url = 'https://kr.investing.com/indices/baltic-dry-historical-data'\n",
        "response = requests.get(url)\n",
        "soup = BeautifulSoup(response.text, 'html.parser')\n",
        "\n",
        "bdi = float(soup.find_all('div', class_ = 'text-5xl/9 font-bold md:text-[42px] md:leading-[60px] text-[#232526]')[0].text.strip().replace(',', ''))\n",
        "print(bdi)\n",
        "worksheet = gc.open('Global Industry Proxy_Trading').get_worksheet(7)\n",
        "\n",
        "\n",
        "date = datetime.now(local_timezone).date().strftime(\"%Y-%m-%d\")\n",
        "\n",
        "cell_list = [date, bdi]\n",
        "\n",
        "raw_data = worksheet.get_all_values()\n",
        "\n",
        "df = pd.DataFrame(raw_data, columns=raw_data[0]).drop(0).reset_index(drop = True)\n",
        "df = df.apply(lambda x : x.str.replace(',' ,''))\n",
        "df.loc[:, ~df.columns.isin(['DATE'])] = df.loc[:, ~df.columns.isin(['DATE'])].replace(',', ).astype(float)\n",
        "\n",
        "print(df)\n",
        "if current_date == list(df.DATE)[-1]:\n",
        "  df.iloc[-1] = cell_list\n",
        "else:\n",
        "  df.loc[df.shape[0]+1] = cell_list\n",
        "\n",
        "worksheet.update([df.columns.values.tolist()] + df.values.tolist())  # 컬럼은 컬럼값만, 값들은 이중리스트로 df 변환\"\"\""
      ],
      "metadata": {
        "colab": {
          "base_uri": "https://localhost:8080/"
        },
        "id": "VulERrHlv2GL",
        "outputId": "77908130-5b25-42f1-8523-139cff8c0f3b"
      },
      "execution_count": 65,
      "outputs": [
        {
          "output_type": "stream",
          "name": "stdout",
          "text": [
            "3192.0\n",
            "           DATE      종가\n",
            "0    2023-01-03  1250.0\n",
            "1    2023-01-04  1176.0\n",
            "2    2023-01-05  1146.0\n",
            "3    2023-01-06  1130.0\n",
            "4    2023-01-09  1139.0\n",
            "..          ...     ...\n",
            "229  2023-11-28  2391.0\n",
            "230  2023-11-29  2696.0\n",
            "231  2023-11-30  2937.0\n",
            "232  2023-12-01  3192.0\n",
            "233  2023-12-05  3192.0\n",
            "\n",
            "[234 rows x 2 columns]\n"
          ]
        },
        {
          "output_type": "execute_result",
          "data": {
            "text/plain": [
              "{'spreadsheetId': '1haCnx_AugipQwMIfHKc2RC4tcQCMArUuXER4Ka0gNtc',\n",
              " 'updatedRange': \"'해운_BDI'!A1:B235\",\n",
              " 'updatedRows': 235,\n",
              " 'updatedColumns': 2,\n",
              " 'updatedCells': 470}"
            ]
          },
          "metadata": {},
          "execution_count": 65
        }
      ]
    }
  ],
  "metadata": {
    "colab": {
      "provenance": [],
      "mount_file_id": "1eCL7_wxwyz1rPO3Z-Vft6WeI8HhA7a7n",
      "authorship_tag": "ABX9TyOU17B5HEX5I9z1FVQcu2nU",
      "include_colab_link": true
    },
    "kernelspec": {
      "display_name": "Python 3",
      "name": "python3"
    },
    "language_info": {
      "name": "python"
    }
  },
  "nbformat": 4,
  "nbformat_minor": 0
}