{
  "cells": [
    {
      "cell_type": "markdown",
      "metadata": {
        "id": "view-in-github",
        "colab_type": "text"
      },
      "source": [
        "<a href=\"https://colab.research.google.com/github/Nohgyumin0812/GlobalIndustryProxyTrading/blob/main/global_industry_proxytrading.ipynb\" target=\"_parent\"><img src=\"https://colab.research.google.com/assets/colab-badge.svg\" alt=\"Open In Colab\"/></a>"
      ]
    },
    {
      "cell_type": "code",
      "execution_count": null,
      "metadata": {
        "colab": {
          "base_uri": "https://localhost:8080/"
        },
        "id": "NOPTwGQnN9PF",
        "outputId": "e6cee3e3-cca0-4cf1-91e3-35b92512ea34"
      },
      "outputs": [
        {
          "output_type": "stream",
          "name": "stdout",
          "text": [
            "Requirement already satisfied: requests in /usr/local/lib/python3.10/dist-packages (2.31.0)\n",
            "Requirement already satisfied: charset-normalizer<4,>=2 in /usr/local/lib/python3.10/dist-packages (from requests) (3.3.2)\n",
            "Requirement already satisfied: idna<4,>=2.5 in /usr/local/lib/python3.10/dist-packages (from requests) (3.6)\n",
            "Requirement already satisfied: urllib3<3,>=1.21.1 in /usr/local/lib/python3.10/dist-packages (from requests) (2.0.7)\n",
            "Requirement already satisfied: certifi>=2017.4.17 in /usr/local/lib/python3.10/dist-packages (from requests) (2023.11.17)\n",
            "Requirement already satisfied: beautifulsoup4 in /usr/local/lib/python3.10/dist-packages (4.11.2)\n",
            "Requirement already satisfied: soupsieve>1.2 in /usr/local/lib/python3.10/dist-packages (from beautifulsoup4) (2.5)\n",
            "Requirement already satisfied: gspread in /usr/local/lib/python3.10/dist-packages (3.4.2)\n",
            "Requirement already satisfied: requests>=2.2.1 in /usr/local/lib/python3.10/dist-packages (from gspread) (2.31.0)\n",
            "Requirement already satisfied: google-auth in /usr/local/lib/python3.10/dist-packages (from gspread) (2.17.3)\n",
            "Requirement already satisfied: charset-normalizer<4,>=2 in /usr/local/lib/python3.10/dist-packages (from requests>=2.2.1->gspread) (3.3.2)\n",
            "Requirement already satisfied: idna<4,>=2.5 in /usr/local/lib/python3.10/dist-packages (from requests>=2.2.1->gspread) (3.6)\n",
            "Requirement already satisfied: urllib3<3,>=1.21.1 in /usr/local/lib/python3.10/dist-packages (from requests>=2.2.1->gspread) (2.0.7)\n",
            "Requirement already satisfied: certifi>=2017.4.17 in /usr/local/lib/python3.10/dist-packages (from requests>=2.2.1->gspread) (2023.11.17)\n",
            "Requirement already satisfied: cachetools<6.0,>=2.0.0 in /usr/local/lib/python3.10/dist-packages (from google-auth->gspread) (5.3.2)\n",
            "Requirement already satisfied: pyasn1-modules>=0.2.1 in /usr/local/lib/python3.10/dist-packages (from google-auth->gspread) (0.3.0)\n",
            "Requirement already satisfied: six>=1.9.0 in /usr/local/lib/python3.10/dist-packages (from google-auth->gspread) (1.16.0)\n",
            "Requirement already satisfied: rsa<5,>=3.1.4 in /usr/local/lib/python3.10/dist-packages (from google-auth->gspread) (4.9)\n",
            "Requirement already satisfied: pyasn1<0.6.0,>=0.4.6 in /usr/local/lib/python3.10/dist-packages (from pyasn1-modules>=0.2.1->google-auth->gspread) (0.5.1)\n",
            "Collecting finance-datareader\n",
            "  Downloading finance_datareader-0.9.66-py3-none-any.whl (23 kB)\n",
            "Requirement already satisfied: pandas>=0.19.2 in /usr/local/lib/python3.10/dist-packages (from finance-datareader) (1.5.3)\n",
            "Requirement already satisfied: requests>=2.3.0 in /usr/local/lib/python3.10/dist-packages (from finance-datareader) (2.31.0)\n",
            "Collecting requests-file (from finance-datareader)\n",
            "  Downloading requests_file-1.5.1-py2.py3-none-any.whl (3.7 kB)\n",
            "Requirement already satisfied: lxml in /usr/local/lib/python3.10/dist-packages (from finance-datareader) (4.9.3)\n",
            "Requirement already satisfied: tqdm in /usr/local/lib/python3.10/dist-packages (from finance-datareader) (4.66.1)\n",
            "Requirement already satisfied: python-dateutil>=2.8.1 in /usr/local/lib/python3.10/dist-packages (from pandas>=0.19.2->finance-datareader) (2.8.2)\n",
            "Requirement already satisfied: pytz>=2020.1 in /usr/local/lib/python3.10/dist-packages (from pandas>=0.19.2->finance-datareader) (2023.3.post1)\n",
            "Requirement already satisfied: numpy>=1.21.0 in /usr/local/lib/python3.10/dist-packages (from pandas>=0.19.2->finance-datareader) (1.23.5)\n",
            "Requirement already satisfied: charset-normalizer<4,>=2 in /usr/local/lib/python3.10/dist-packages (from requests>=2.3.0->finance-datareader) (3.3.2)\n",
            "Requirement already satisfied: idna<4,>=2.5 in /usr/local/lib/python3.10/dist-packages (from requests>=2.3.0->finance-datareader) (3.6)\n",
            "Requirement already satisfied: urllib3<3,>=1.21.1 in /usr/local/lib/python3.10/dist-packages (from requests>=2.3.0->finance-datareader) (2.0.7)\n",
            "Requirement already satisfied: certifi>=2017.4.17 in /usr/local/lib/python3.10/dist-packages (from requests>=2.3.0->finance-datareader) (2023.11.17)\n",
            "Requirement already satisfied: six in /usr/local/lib/python3.10/dist-packages (from requests-file->finance-datareader) (1.16.0)\n",
            "Installing collected packages: requests-file, finance-datareader\n",
            "Successfully installed finance-datareader-0.9.66 requests-file-1.5.1\n"
          ]
        }
      ],
      "source": [
        "!pip install requests\n",
        "!pip install beautifulsoup4\n",
        "!pip install gspread\n",
        "!pip install finance-datareader\n"
      ]
    },
    {
      "cell_type": "code",
      "source": [
        "from google.colab import auth\n",
        "import gspread\n",
        "from google.auth import default\n",
        "import pandas as pd\n",
        "import requests\n",
        "from bs4 import BeautifulSoup\n",
        "from datetime import datetime\n",
        "import pytz\n",
        "import FinanceDataReader as fdr\n",
        "from statsmodels.tsa.stattools import coint\n",
        "import numpy as np\n",
        "import matplotlib.pyplot as plt\n",
        "import requests\n",
        "from requests.adapters import HTTPAdapter\n",
        "from urllib3.util.retry import Retry\n",
        "import chardet\n",
        "from time import sleep\n",
        "from scipy.stats import spearmanr"
      ],
      "metadata": {
        "id": "c7Vyez8dsp2u"
      },
      "execution_count": null,
      "outputs": []
    },
    {
      "cell_type": "code",
      "source": [
        "all_data = pd.read_csv('/content/drive/MyDrive/all_data.csv').set_index('Unnamed: 0')\n",
        "local_timezone = pytz.timezone('Asia/Seoul')\n",
        "auth.authenticate_user()\n",
        "creds, _ = default()\n",
        "gc = gspread.authorize(creds)"
      ],
      "metadata": {
        "id": "mTB6mE0m0XO6"
      },
      "execution_count": null,
      "outputs": []
    },
    {
      "cell_type": "code",
      "source": [
        "def corr_coint_test(proxy, df):\n",
        "  merged_df = all_data.reset_index().rename(columns = {'Unnamed: 0':'DATE'}).dropna(axis = 1)\n",
        "\n",
        "  all_data_ex = pd.merge(merged_df, df, on='DATE', how = 'left').iloc[:-1,].dropna(axis = 0).reset_index(drop= True).set_index(keys = 'DATE')\n",
        "  shape = int(all_data_ex.shape[0] / 2)\n",
        "  all_data_ex = all_data_ex[shape:]\n",
        "  tickers = all_data_ex.columns[1:-1]\n",
        "  proxy_array = np.array(all_data_ex[proxy])\n",
        "  print(proxy_array)\n",
        "  corr_list = []\n",
        "  for ticker in tickers:\n",
        "    ticker_array = np.array(all_data_ex[ticker])\n",
        "    corr_score, corr_pval = spearmanr(proxy_array, ticker_array)\n",
        "    corr_list.append([ticker, corr_score])\n",
        "  corr_list = sorted(corr_list, key = lambda x:x[1], reverse= True)[:5]\n",
        "  return corr_list"
      ],
      "metadata": {
        "id": "ByIIHBA2sJoQ"
      },
      "execution_count": null,
      "outputs": []
    },
    {
      "cell_type": "code",
      "source": [
        "# 화학-에틸렌(워크시트2)\n",
        "url = 'https://www.koreapds.com/wacs/wms/kpds_price.php?large_cd=22'\n",
        "response = requests.get(url)\n",
        "soup = BeautifulSoup(response.text, 'html.parser',from_encoding='ISO-8859-1')\n",
        "nafta = float(soup.find_all('span', class_='price')[0].text.strip())\n",
        "ethy = float(soup.find_all('span', class_='price')[1].text.strip())\n",
        "\n",
        "current_date = datetime.now(local_timezone).date().strftime(\"%Y-%m-%d\")\n",
        "cell_list = [current_date,ethy]\n",
        "\n",
        "worksheet = gc.open('Global Industry Proxy_Trading').get_worksheet(1)\n",
        "raw_data = worksheet.get_all_values()\n",
        "\n",
        "df = pd.DataFrame(raw_data, columns=raw_data[0]).drop(0).reset_index(drop = True)\n",
        "df.loc[:, ~df.columns.isin(['DATE'])] = df.loc[:, ~df.columns.isin(['DATE'])].astype(float)\n",
        "\n",
        "if current_date == df.iloc[-1]['DATE']:\n",
        "  df.iloc[-1] = cell_list\n",
        "else:\n",
        "  df.loc[df.shape[0]+2] = cell_list\n",
        "\n",
        "worksheet.update([df.columns.values.tolist()] + df.values.tolist())  # 컬럼은 컬럼값만, 값들은 이중리스트로 df 변환\"\"\"\n",
        "\n",
        "##코릴레이션 업뎃##\n",
        "corr_list = corr_coint_test('ethy', df)\n",
        "print(corr_list)\n",
        "worksheet = gc.open('Global Industry Proxy_Trading').get_worksheet(0)\n",
        "worksheet.update('L3:M7', corr_list)"
      ],
      "metadata": {
        "colab": {
          "base_uri": "https://localhost:8080/"
        },
        "id": "Eld1AiIhzzDM",
        "outputId": "c34f02d5-49a3-494a-e082-f98cb0dd59ee"
      },
      "execution_count": null,
      "outputs": [
        {
          "output_type": "stream",
          "name": "stderr",
          "text": [
            "/usr/local/lib/python3.10/dist-packages/bs4/__init__.py:226: UserWarning: You provided Unicode markup but also provided a value for from_encoding. Your from_encoding will be ignored.\n",
            "  warnings.warn(\"You provided Unicode markup but also provided a value for from_encoding. Your from_encoding will be ignored.\")\n"
          ]
        },
        {
          "output_type": "stream",
          "name": "stdout",
          "text": [
            "[730.0 730.0 750.0 750.0 790.0 790.0 810.0 810.0 810.0 810.0 820.0 870.0\n",
            " 870.0 870.0 870.0 870.0 855.0 850.0 850.0 850.0 850.0 850.0 850.0 850.0\n",
            " 850.0]\n"
          ]
        },
        {
          "output_type": "stream",
          "name": "stderr",
          "text": [
            "/usr/local/lib/python3.10/dist-packages/scipy/stats/_stats_py.py:5445: ConstantInputWarning: An input array is constant; the correlation coefficient is not defined.\n",
            "  warnings.warn(stats.ConstantInputWarning(warn_msg))\n"
          ]
        },
        {
          "output_type": "stream",
          "name": "stdout",
          "text": [
            "[['018670', 0.868585214396406], ['082640', 0.8646487303066874], ['018290', 0.8520848956609609], ['001080', 0.8458299116242058], ['025950', 0.8404393531549181]]\n"
          ]
        },
        {
          "output_type": "execute_result",
          "data": {
            "text/plain": [
              "{'spreadsheetId': '1haCnx_AugipQwMIfHKc2RC4tcQCMArUuXER4Ka0gNtc',\n",
              " 'updatedRange': \"'프록시 인덱스 정보 탭'!L3:M7\",\n",
              " 'updatedRows': 5,\n",
              " 'updatedColumns': 2,\n",
              " 'updatedCells': 10}"
            ]
          },
          "metadata": {},
          "execution_count": 44
        }
      ]
    },
    {
      "cell_type": "code",
      "source": [
        "worksheet = gc.open('Global Industry Proxy_Trading').get_worksheet(2) ## 납사\n",
        "\n",
        "raw_data = worksheet.get_all_values()\n",
        "current_date = datetime.now(local_timezone).date().strftime(\"%Y-%m-%d\")\n",
        "cell_list = [current_date,nafta]\n",
        "\n",
        "df = pd.DataFrame(raw_data, columns=raw_data[0]).drop(0).reset_index(drop = True)\n",
        "df.loc[:, ~df.columns.isin(['DATE'])] = df.loc[:, ~df.columns.isin(['DATE'])].astype(float)\n",
        "\n",
        "if current_date == df.iloc[-1]['DATE']:\n",
        "  df.iloc[-1] = cell_list\n",
        "else:\n",
        "  df.loc[df.shape[0]+2] = cell_list\n",
        "\n",
        "worksheet.update([df.columns.values.tolist()] + df.values.tolist())  # 컬럼은 컬럼값만, 값들은 이중리스트로 df 변환\"\"\"\n",
        "##코릴레이션 업뎃##\n",
        "corr_list = corr_coint_test('nafta', df)\n",
        "print(corr_list)\n",
        "worksheet = gc.open('Global Industry Proxy_Trading').get_worksheet(0)\n",
        "worksheet.update('L17:M21', corr_list)"
      ],
      "metadata": {
        "id": "Bbco9uTItgLv",
        "colab": {
          "base_uri": "https://localhost:8080/"
        },
        "outputId": "99086b02-2bdc-40a2-cfda-44c774221aea"
      },
      "execution_count": null,
      "outputs": [
        {
          "output_type": "stream",
          "name": "stdout",
          "text": [
            "[533.875 549.25 602.625 600.5 638.75 653.375 664.875 644.625 663.5 666.25\n",
            " 685.5 712.75 718.75 647.75 657.0 687.25 657.5 657.5 630.25 625.75 625.75\n",
            " 625.75 642.15 642.15]\n"
          ]
        },
        {
          "output_type": "stream",
          "name": "stderr",
          "text": [
            "/usr/local/lib/python3.10/dist-packages/scipy/stats/_stats_py.py:5445: ConstantInputWarning: An input array is constant; the correlation coefficient is not defined.\n",
            "  warnings.warn(stats.ConstantInputWarning(warn_msg))\n"
          ]
        },
        {
          "output_type": "stream",
          "name": "stdout",
          "text": [
            "[['011330', 0.8471592217662233], ['083310', 0.8454513087962421], ['224060', 0.7996080992722367], ['204620', 0.7984334193266261], ['205100', 0.7844550696539971]]\n"
          ]
        },
        {
          "output_type": "execute_result",
          "data": {
            "text/plain": [
              "{'spreadsheetId': '1haCnx_AugipQwMIfHKc2RC4tcQCMArUuXER4Ka0gNtc',\n",
              " 'updatedRange': \"'프록시 인덱스 정보 탭'!L17:M21\",\n",
              " 'updatedRows': 5,\n",
              " 'updatedColumns': 2,\n",
              " 'updatedCells': 10}"
            ]
          },
          "metadata": {},
          "execution_count": 45
        }
      ]
    },
    {
      "cell_type": "code",
      "execution_count": null,
      "metadata": {
        "id": "x5YLQIcozblP",
        "colab": {
          "base_uri": "https://localhost:8080/"
        },
        "outputId": "9fe96a90-a268-49be-d711-921f8ca42a59"
      },
      "outputs": [
        {
          "output_type": "stream",
          "name": "stdout",
          "text": [
            "3.506\n",
            "1.603\n",
            "[2.92 2.914 2.909 2.931 2.962 2.95 2.949 3.016 3.041 3.022 3.104 3.171\n",
            " 3.197 3.2 3.26 3.386 3.42 3.446 3.475 3.483]\n"
          ]
        },
        {
          "output_type": "stream",
          "name": "stderr",
          "text": [
            "/usr/local/lib/python3.10/dist-packages/scipy/stats/_stats_py.py:5445: ConstantInputWarning: An input array is constant; the correlation coefficient is not defined.\n",
            "  warnings.warn(stats.ConstantInputWarning(warn_msg))\n"
          ]
        },
        {
          "output_type": "stream",
          "name": "stdout",
          "text": [
            "[['001720', 0.9404266016427048], ['000320', 0.939760101884157], ['001630', 0.9262606083373501], ['018260', 0.9233082706766916], ['000815', 0.9203007518796992]]\n"
          ]
        },
        {
          "output_type": "execute_result",
          "data": {
            "text/plain": [
              "{'spreadsheetId': '1haCnx_AugipQwMIfHKc2RC4tcQCMArUuXER4Ka0gNtc',\n",
              " 'updatedRange': \"'프록시 인덱스 정보 탭'!L31:M35\",\n",
              " 'updatedRows': 5,\n",
              " 'updatedColumns': 2,\n",
              " 'updatedCells': 10}"
            ]
          },
          "metadata": {},
          "execution_count": 46
        }
      ],
      "source": [
        "# DRAM(워크시트 4)\n",
        "\n",
        "worksheet = gc.open('Global Industry Proxy_Trading').get_worksheet(3)\n",
        "\n",
        "url = 'https://www.dramexchange.com/'\n",
        "headers = {\n",
        "    'User-Agent': 'Mozilla/5.0 (Windows NT 10.0; Win64; x64) AppleWebKit/537.36 (KHTML, like Gecko) Chrome/91.0.4472.124 Safari/537.36'\n",
        "}\n",
        "response = requests.get(url)\n",
        "soup = BeautifulSoup(response.text, 'html.parser')\n",
        "\n",
        "dram_name_list = soup.find_all('td', class_ = 'tab_title')\n",
        "dram1_price = float(soup.find_all('td', class_='tab_tr_gray')[4].text.strip())\n",
        "dram2_price = float(soup.find_all('td', class_='tab_tr_gray')[16].text.strip())\n",
        "\n",
        "print(dram1_price) # session_average\n",
        "print(dram2_price) # session_average\n",
        "\n",
        "raw_data = worksheet.get_all_values()\n",
        "current_date = datetime.now(local_timezone).date().strftime(\"%Y-%m-%d\")\n",
        "cell_list = [current_date, dram1_price, dram2_price]\n",
        "\n",
        "df = pd.DataFrame(raw_data, columns=raw_data[0]).drop(0)\n",
        "df.loc[:, ~df.columns.isin(['DATE'])] = df.loc[:, ~df.columns.isin(['DATE'])].astype(float)\n",
        "\n",
        "if current_date == list(df.DATE)[-1]:\n",
        "  df.iloc[-1] = cell_list\n",
        "else:\n",
        "  df.loc[df.shape[0]+1] = cell_list\n",
        "\n",
        "worksheet.update([df.columns.values.tolist()] + df.values.tolist())  # 컬럼은 컬럼값만, 값들은 이중리스트로 df 변환\n",
        "\n",
        "##코릴레이션 업뎃##\n",
        "corr_list = corr_coint_test('DDR4 16Gb (1Gx16)3200(우)', df)\n",
        "print(corr_list)\n",
        "worksheet = gc.open('Global Industry Proxy_Trading').get_worksheet(0)\n",
        "worksheet.update('L31:M35', corr_list)"
      ]
    },
    {
      "cell_type": "code",
      "source": [
        "#2차전지-리튬 워크시트 5\n",
        "url = 'https://www.kores.net/komis/price/mineralprice/minormetals/pricetrend/minorMetals.do?mnrl_pc_mc_seq=516'\n",
        "response = requests.get(url, verify = False)\n",
        "soup = BeautifulSoup(response.text, 'html.parser')\n",
        "\n",
        "\n",
        "date = soup.find_all('td', class_ = 'fst')[-2].text.strip()\n",
        "lit = float(soup.find('table').find_all('td')[-9].text.strip())\n",
        "\n",
        "worksheet = gc.open('Global Industry Proxy_Trading').get_worksheet(4)\n",
        "cell_list = [date, lit]\n",
        "print(cell_list)\n",
        "raw_data = worksheet.get_all_values()\n",
        "\n",
        "df = pd.DataFrame(raw_data, columns=raw_data[0]).drop(0).reset_index(drop = True)\n",
        "df.loc[:, ~df.columns.isin(['DATE'])] = df.loc[:, ~df.columns.isin(['DATE'])].astype(float)\n",
        "\n",
        "\n",
        "if date == df.iloc[-1]['DATE']:\n",
        "  df.iloc[-1] = cell_list\n",
        "else:\n",
        "  df.loc[df.shape[0]+2] = cell_list\n",
        "\n",
        "worksheet.update([df.columns.values.tolist()] + df.values.tolist())  # 컬럼은 컬럼값만, 값들은 이중리스트로 df 변환\"\"\"\n",
        "\n",
        "corr_list = corr_coint_test('lit', df)\n",
        "print(corr_list)\n",
        "worksheet = gc.open('Global Industry Proxy_Trading').get_worksheet(0)\n",
        "worksheet.update('L45:M49', corr_list)"
      ],
      "metadata": {
        "id": "QHxAUrtZyH-F",
        "colab": {
          "base_uri": "https://localhost:8080/"
        },
        "outputId": "50f881eb-c381-430b-868f-e962e023d13f"
      },
      "execution_count": null,
      "outputs": [
        {
          "output_type": "stream",
          "name": "stderr",
          "text": [
            "/usr/local/lib/python3.10/dist-packages/urllib3/connectionpool.py:1100: InsecureRequestWarning: Unverified HTTPS request is being made to host 'www.kores.net'. Adding certificate verification is strongly advised. See: https://urllib3.readthedocs.io/en/latest/advanced-usage.html#tls-warnings\n",
            "  warnings.warn(\n"
          ]
        },
        {
          "output_type": "stream",
          "name": "stdout",
          "text": [
            "['2023-12-14', 88.5]\n",
            "[304.5 304.5 302.5 302.5 302.5 302.5 302.5 302.5 302.5 302.5 302.5 302.5\n",
            " 302.5 302.5 297.5 297.5 297.5 292.5 292.5 292.5 287.5 287.5 280.5 275.5\n",
            " 270.5 262.5 257.5 257.5 257.5 257.5 257.5 257.5 252.5 247.5 247.5 247.5\n",
            " 240.5 227.5 222.5 212.5 202.5 202.5 202.5 202.5 202.5 202.5 201.5 197.5\n",
            " 195.5 195.5 195.5 195.5 192.5 192.5 192.5 186.5 180.5 175.5 172.5 166.5\n",
            " 162.5 161.5 157.5 155.5 155.5 153.5 153.5 153.5 153.5 153.5 155.5 158.5\n",
            " 162.5 165.5 165.5 163.5 162.5 158.5 157.5 159.5 157.5 155.5 155.5 154.5\n",
            " 154.5 154.5 154.5 153.5 149.5 147.5 147.5 144.5 144.5 143.5 139.5 135.5\n",
            " 131.5 131.5 129.5 126.5 123.5 120.5 109.5 100.5 95.5 90.5 90.5]\n"
          ]
        },
        {
          "output_type": "stream",
          "name": "stderr",
          "text": [
            "/usr/local/lib/python3.10/dist-packages/scipy/stats/_stats_py.py:5445: ConstantInputWarning: An input array is constant; the correlation coefficient is not defined.\n",
            "  warnings.warn(stats.ConstantInputWarning(warn_msg))\n"
          ]
        },
        {
          "output_type": "stream",
          "name": "stdout",
          "text": [
            "[['000300', 0.9809065927369612], ['073570', 0.9756360319616332], ['001070', 0.9610720989862586], ['005860', 0.9557308994723724], ['084670', 0.9500438364656772]]\n"
          ]
        },
        {
          "output_type": "execute_result",
          "data": {
            "text/plain": [
              "{'spreadsheetId': '1haCnx_AugipQwMIfHKc2RC4tcQCMArUuXER4Ka0gNtc',\n",
              " 'updatedRange': \"'프록시 인덱스 정보 탭'!L45:M49\",\n",
              " 'updatedRows': 5,\n",
              " 'updatedColumns': 2,\n",
              " 'updatedCells': 10}"
            ]
          },
          "metadata": {},
          "execution_count": 47
        }
      ]
    },
    {
      "cell_type": "code",
      "source": [
        "#신조선가- 벌커 워크시트 6\n",
        "\n",
        "url = 'https://www.kobc.or.kr/ebz/shippinginfo/sln/gridList.do?mId=0401000000'\n",
        "response = requests.get(url)\n",
        "soup = BeautifulSoup(response.text, 'html.parser')\n",
        "table = soup.find('table', class_ = 'TbCommon')\n",
        "worksheet = gc.open('Global Industry Proxy_Trading').get_worksheet(5)\n",
        "\n",
        "\n",
        "date = table.find_all('td')[0].text.strip()\n",
        "cape =  float(table.find_all('td')[1].text.strip())\n",
        "kamsarmax =  float(table.find_all('td')[2].text.strip())\n",
        "ultramax =  float(table.find_all('td')[3].text.strip())\n",
        "handy =  float(table.find_all('td')[4].text.strip())\n",
        "\n",
        "cell_list = [date, cape, kamsarmax, ultramax, handy]\n",
        "\n",
        "raw_data = worksheet.get_all_values()\n",
        "\n",
        "df = pd.DataFrame(raw_data, columns=raw_data[0]).drop(0).reset_index(drop = True)\n",
        "df.loc[:, ~df.columns.isin(['DATE'])] = df.loc[:, ~df.columns.isin(['DATE'])].astype(float)\n",
        "\n",
        "\n",
        "if date == df.iloc[-1]['DATE']:\n",
        "  df.iloc[-1] = cell_list\n",
        "else:\n",
        "  df.loc[df.shape[0]+2] = cell_list\n",
        "\n",
        "worksheet.update([df.columns.values.tolist()] + df.values.tolist())  # 컬럼은 컬럼값만, 값들은 이중리스트로 df 변환\n",
        "\n",
        "corr_list = corr_coint_test('CAPE(180K)(우)', df)\n",
        "print(corr_list)\n",
        "worksheet = gc.open('Global Industry Proxy_Trading').get_worksheet(0)\n",
        "worksheet.update('T3:U7', corr_list)"
      ],
      "metadata": {
        "id": "DfhU_SXzsi09",
        "colab": {
          "base_uri": "https://localhost:8080/"
        },
        "outputId": "39e4dc83-de32-4390-deb1-3590bf5c040c"
      },
      "execution_count": null,
      "outputs": [
        {
          "output_type": "stream",
          "name": "stdout",
          "text": [
            "[62.96 62.77 62.73 62.53 62.8 62.57 62.75 62.55 62.41 62.55 62.54 62.71\n",
            " 62.72 62.8 63.19 63.43 63.5 63.49 63.58 63.53 63.57 63.78 64.02 64.23]\n"
          ]
        },
        {
          "output_type": "stream",
          "name": "stderr",
          "text": [
            "/usr/local/lib/python3.10/dist-packages/scipy/stats/_stats_py.py:5445: ConstantInputWarning: An input array is constant; the correlation coefficient is not defined.\n",
            "  warnings.warn(stats.ConstantInputWarning(warn_msg))\n"
          ]
        },
        {
          "output_type": "stream",
          "name": "stdout",
          "text": [
            "[['006650', 0.8618664550233356], ['000325', 0.8559930591915259], ['001530', 0.8434102581251922], ['072870', 0.8272035016346602], ['012170', 0.8157494210846816]]\n"
          ]
        },
        {
          "output_type": "execute_result",
          "data": {
            "text/plain": [
              "{'spreadsheetId': '1haCnx_AugipQwMIfHKc2RC4tcQCMArUuXER4Ka0gNtc',\n",
              " 'updatedRange': \"'프록시 인덱스 정보 탭'!T3:U7\",\n",
              " 'updatedRows': 5,\n",
              " 'updatedColumns': 2,\n",
              " 'updatedCells': 10}"
            ]
          },
          "metadata": {},
          "execution_count": 48
        }
      ]
    },
    {
      "cell_type": "code",
      "source": [
        "#신조선가- 탱커 워크시트 7\n",
        "\n",
        "\n",
        "url = 'https://www.kobc.or.kr/ebz/shippinginfo/stn/gridList.do?mId=0401000000'\n",
        "response = requests.get(url)\n",
        "soup = BeautifulSoup(response.text, 'html.parser')\n",
        "table = soup.find('table', class_ = 'TbCommon')\n",
        "worksheet = gc.open('Global Industry Proxy_Trading').get_worksheet(6)\n",
        "\n",
        "\n",
        "date = table.find_all('td')[0].text.strip()\n",
        "vlcc =  float(table.find_all('td')[1].text.strip())\n",
        "suezmax =  float(table.find_all('td')[2].text.strip())\n",
        "aframax =  float(table.find_all('td')[3].text.strip())\n",
        "lr2 =  float(table.find_all('td')[4].text.strip())\n",
        "lr1 =  float(table.find_all('td')[5].text.strip())\n",
        "mr =  float(table.find_all('td')[6].text.strip())\n",
        "\n",
        "cell_list = [date, vlcc,suezmax,aframax,lr2,lr1,mr]\n",
        "\n",
        "raw_data = worksheet.get_all_values()\n",
        "\n",
        "df = pd.DataFrame(raw_data, columns=raw_data[0]).drop(0).reset_index(drop = True)\n",
        "df.loc[:, ~df.columns.isin(['DATE'])] = df.loc[:, ~df.columns.isin(['DATE'])].astype(float)\n",
        "\n",
        "\n",
        "if date == df.iloc[-1]['DATE']:\n",
        "  df.iloc[-1] = cell_list\n",
        "else:\n",
        "  df.loc[df.shape[0]+2] = cell_list\n",
        "\n",
        "df_tanker = df['VLCC(320K)(우)']\n",
        "worksheet.update([df.columns.values.tolist()] + df.values.tolist())  # 컬럼은 컬럼값만, 값들은 이중리스트로 df 변환\n",
        "\n",
        "corr_list = corr_coint_test('VLCC(320K)(우)', df)\n",
        "print(corr_list)\n",
        "worksheet = gc.open('Global Industry Proxy_Trading').get_worksheet(0)\n",
        "worksheet.update('T17:U21', corr_list)"
      ],
      "metadata": {
        "id": "O5MUR0bVsi-t",
        "colab": {
          "base_uri": "https://localhost:8080/"
        },
        "outputId": "4674a90f-6f3d-4616-b53d-fdb1bcdc4e50"
      },
      "execution_count": null,
      "outputs": [
        {
          "output_type": "stream",
          "name": "stdout",
          "text": [
            "[122.0 124.0 124.0 123.0 124.0 124.0 123.0 124.0 124.0 124.0 123.0 123.0\n",
            " 123.0 123.0 123.0 123.0 123.0 123.0 123.0 123.0 123.33 123.38 123.53\n",
            " 123.53]\n"
          ]
        },
        {
          "output_type": "stream",
          "name": "stderr",
          "text": [
            "/usr/local/lib/python3.10/dist-packages/scipy/stats/_stats_py.py:5445: ConstantInputWarning: An input array is constant; the correlation coefficient is not defined.\n",
            "  warnings.warn(stats.ConstantInputWarning(warn_msg))\n"
          ]
        },
        {
          "output_type": "stream",
          "name": "stdout",
          "text": [
            "[['003490', 0.5735320136039815], ['001120', 0.5552524593164057], ['001460', 0.5458214196677194], ['073540', 0.5125770049061003], ['001430', 0.5063366721284454]]\n"
          ]
        },
        {
          "output_type": "execute_result",
          "data": {
            "text/plain": [
              "{'spreadsheetId': '1haCnx_AugipQwMIfHKc2RC4tcQCMArUuXER4Ka0gNtc',\n",
              " 'updatedRange': \"'프록시 인덱스 정보 탭'!T17:U21\",\n",
              " 'updatedRows': 5,\n",
              " 'updatedColumns': 2,\n",
              " 'updatedCells': 10}"
            ]
          },
          "metadata": {},
          "execution_count": 49
        }
      ]
    },
    {
      "cell_type": "code",
      "source": [
        "#BDI-  발틱운임지수 워크시트 8\n",
        "\n",
        "\n",
        "url = 'https://kr.investing.com/indices/baltic-dry-historical-data'\n",
        "response = requests.get(url)\n",
        "soup = BeautifulSoup(response.text, 'html.parser')\n",
        "\n",
        "bdi = float(soup.find_all('div', class_ = 'text-5xl/9 font-bold md:text-[42px] md:leading-[60px] text-[#232526]')[0].text.strip().replace(',', ''))\n",
        "print(bdi)\n",
        "worksheet = gc.open('Global Industry Proxy_Trading').get_worksheet(7)\n",
        "\n",
        "\n",
        "date = datetime.now(local_timezone).date().strftime(\"%Y-%m-%d\")\n",
        "\n",
        "cell_list = [date, bdi]\n",
        "\n",
        "raw_data = worksheet.get_all_values()\n",
        "\n",
        "df = pd.DataFrame(raw_data, columns=raw_data[0]).drop(0).reset_index(drop = True)\n",
        "df = df.apply(lambda x : x.str.replace(',' ,''))\n",
        "df.loc[:, ~df.columns.isin(['DATE'])] = df.loc[:, ~df.columns.isin(['DATE'])].replace(',', ).astype(float)\n",
        "\n",
        "print(df)\n",
        "if current_date == list(df.DATE)[-1]:\n",
        "  df.iloc[-1] = cell_list\n",
        "else:\n",
        "  df.loc[df.shape[0]+1] = cell_list\n",
        "\n",
        "df_bdi = df\n",
        "worksheet.update([df.columns.values.tolist()] + df.values.tolist())  # 컬럼은 컬럼값만, 값들은 이중리스트로 df 변환\"\"\"\n",
        "\n",
        "corr_list = corr_coint_test('bdi', df)\n",
        "print(corr_list)\n",
        "worksheet = gc.open('Global Industry Proxy_Trading').get_worksheet(0)\n",
        "worksheet.update('T31:U35', corr_list)"
      ],
      "metadata": {
        "colab": {
          "base_uri": "https://localhost:8080/"
        },
        "id": "VulERrHlv2GL",
        "outputId": "3765143a-21f1-43a7-a21e-66fb2ea0d5ed"
      },
      "execution_count": null,
      "outputs": [
        {
          "output_type": "stream",
          "name": "stdout",
          "text": [
            "2348.0\n",
            "           DATE     bdi\n",
            "0    2023-01-03  1250.0\n",
            "1    2023-01-04  1176.0\n",
            "2    2023-01-05  1146.0\n",
            "3    2023-01-06  1130.0\n",
            "4    2023-01-09  1139.0\n",
            "..          ...     ...\n",
            "235  2023-12-07  2848.0\n",
            "236  2023-12-09  2495.0\n",
            "237  2023-12-10  2483.0\n",
            "238  2023-12-16  2411.0\n",
            "239  2023-12-17  2348.0\n",
            "\n",
            "[240 rows x 2 columns]\n",
            "[1216.0 1240.0 1233.0 1183.0 1138.0 1112.0 1091.0 1068.0 1044.0 994.0\n",
            " 993.0 1009.0 1024.0 1032.0 1088.0 1103.0 1090.0 1073.0 1037.0 1004.0\n",
            " 977.0 978.0 967.0 962.0 1067.0 1097.0 1110.0 1127.0 1150.0 1123.0 1128.0\n",
            " 1136.0 1145.0 1142.0 1144.0 1137.0 1129.0 1135.0 1233.0 1247.0 1237.0\n",
            " 1223.0 1194.0 1151.0 1110.0 1080.0 1107.0 1094.0 1086.0 1065.0 1083.0\n",
            " 1063.0 1081.0 1141.0 1186.0 1209.0 1235.0 1290.0 1340.0 1381.0 1439.0\n",
            " 1526.0 1584.0 1569.0 1593.0 1614.0 1694.0 1752.0 1778.0 1827.0 1929.0\n",
            " 1983.0 1948.0 1935.0 1945.0 1972.0 2058.0 2105.0 2071.0 2046.0 2017.0\n",
            " 1949.0 1832.0 1662.0 1563.0 1502.0 1459.0 1401.0 1385.0 1462.0 1523.0\n",
            " 1559.0 1530.0 1598.0 1643.0 1655.0 1662.0 1688.0 1758.0 1820.0 1817.0\n",
            " 1796.0 1755.0 1855.0 2102.0 2259.0 2391.0 2696.0 2937.0 3192.0 3192.0\n",
            " 3143.0 2848.0]\n"
          ]
        },
        {
          "output_type": "stream",
          "name": "stderr",
          "text": [
            "/usr/local/lib/python3.10/dist-packages/scipy/stats/_stats_py.py:5445: ConstantInputWarning: An input array is constant; the correlation coefficient is not defined.\n",
            "  warnings.warn(stats.ConstantInputWarning(warn_msg))\n"
          ]
        },
        {
          "output_type": "stream",
          "name": "stdout",
          "text": [
            "[['003090', 0.9010933486964424], ['024110', 0.9003947081767426], ['018670', 0.8804475762142676], ['204210', 0.8703018660692291], ['024940', 0.8635591415104885]]\n"
          ]
        },
        {
          "output_type": "execute_result",
          "data": {
            "text/plain": [
              "{'spreadsheetId': '1haCnx_AugipQwMIfHKc2RC4tcQCMArUuXER4Ka0gNtc',\n",
              " 'updatedRange': \"'프록시 인덱스 정보 탭'!T31:U35\",\n",
              " 'updatedRows': 5,\n",
              " 'updatedColumns': 2,\n",
              " 'updatedCells': 10}"
            ]
          },
          "metadata": {},
          "execution_count": 50
        }
      ]
    },
    {
      "cell_type": "code",
      "source": [
        "###coint test###\n",
        "\"\"\"\n",
        "all_data_ex= merged_df[120:]\n",
        "\n",
        "all_data_ex = np.log(all_data_ex.apply(lambda x:x.astype(float)))\n",
        "print(all_data_ex)\n",
        "\n",
        "tickers = all_data_ex.columns[1:-1]\n",
        "coint_list = []\n",
        "i = 0\n",
        "for ticker in tickers:\n",
        "  i+=1\n",
        "  coint_score = coint(all_data_ex['bdi'], all_data_ex[ticker])[0]\n",
        "  coint_pval = coint(all_data_ex['bdi'], all_data_ex[ticker])[1]\n",
        "  result = coint(all_data_ex['bdi'], all_data_ex[ticker])\n",
        "  coint_list.append([ticker, coint_score, coint_pval])\n",
        "coint_list = sorted(coint_list, key = lambda x:x[2], reverse= False)[:5]\n",
        "\n",
        "\n",
        "print(coint_list)\"\"\""
      ],
      "metadata": {
        "colab": {
          "base_uri": "https://localhost:8080/",
          "height": 72
        },
        "id": "oIgAbSQoj-P5",
        "outputId": "1431ac99-095c-41b4-a45b-06035c9214a5"
      },
      "execution_count": null,
      "outputs": [
        {
          "output_type": "execute_result",
          "data": {
            "text/plain": [
              "\"\\nall_data_ex= merged_df[120:]\\n\\nall_data_ex = np.log(all_data_ex.apply(lambda x:x.astype(float)))\\nprint(all_data_ex)\\n\\ntickers = all_data_ex.columns[1:-1]\\ncoint_list = []\\ni = 0\\nfor ticker in tickers:\\n  i+=1\\n  coint_score = coint(all_data_ex['bdi'], all_data_ex[ticker])[0]\\n  coint_pval = coint(all_data_ex['bdi'], all_data_ex[ticker])[1]\\n  result = coint(all_data_ex['bdi'], all_data_ex[ticker])\\n  coint_list.append([ticker, coint_score, coint_pval])\\ncoint_list = sorted(coint_list, key = lambda x:x[2], reverse= False)[:5]\\n\\n\\nprint(coint_list)\""
            ],
            "application/vnd.google.colaboratory.intrinsic+json": {
              "type": "string"
            }
          },
          "metadata": {},
          "execution_count": 51
        }
      ]
    },
    {
      "cell_type": "code",
      "source": [
        "### 종목코드 가져오기##\n",
        "\"\"\"import FinanceDataReader as fdr\n",
        "all_data = pd.DataFrame()\n",
        "stock_df = fdr.StockListing('KRX')\n",
        "\n",
        "stock_df = stock_df[stock_df['Market']!='KONEX'][['Code', 'Name']]\n",
        "stock_value = stock_df.values.tolist()\n",
        "worksheet = gc.open('Global Industry Proxy_Trading').get_worksheet(0)\n",
        "worksheet.update('W2', stock_value)\"\"\""
      ],
      "metadata": {
        "colab": {
          "base_uri": "https://localhost:8080/"
        },
        "id": "STamPCB42njz",
        "outputId": "fc650a95-bdda-4ecb-fac9-2235641932f9"
      },
      "execution_count": null,
      "outputs": [
        {
          "output_type": "execute_result",
          "data": {
            "text/plain": [
              "{'spreadsheetId': '1haCnx_AugipQwMIfHKc2RC4tcQCMArUuXER4Ka0gNtc',\n",
              " 'updatedRange': \"'프록시 인덱스 정보 탭'!W2:X2658\",\n",
              " 'updatedRows': 2657,\n",
              " 'updatedColumns': 2,\n",
              " 'updatedCells': 5314}"
            ]
          },
          "metadata": {},
          "execution_count": 60
        }
      ]
    },
    {
      "cell_type": "code",
      "source": [
        "# 백테스팅 가격 데이터셋 수집\n",
        "\"\"\"\n",
        "!pip install finance-datareader\n",
        "from google.colab import drive\n",
        "drive.mount('/content/drive')\n",
        "start_date = '2023-01-01'\n",
        "import pandas as pd\n",
        "import FinanceDataReader as fdr\n",
        "all_data = pd.DataFrame()\n",
        "stock_df = fdr.StockListing('KRX')\n",
        "\n",
        "stock_df = stock_df[stock_df['Market']!='KONEX']\n",
        "symbols = list(stock_df['Code'])\n",
        "i = 0\n",
        "for symbol in symbols:\n",
        "   i+=1\n",
        "   print(i)\n",
        "   data = fdr.DataReader(symbol = symbol, start = start_date)\n",
        "   data['symbol'] = symbol\n",
        "   all_data = pd.concat([all_data, data], axis = 0 )\n",
        "\n",
        "all_data = all_data.pivot_table(index = 'Date', columns = 'symbol', values = 'Close')\n",
        "all_data.index.name = None\n",
        "all_data.columns.name = None\n",
        "all_data.to_csv('/content/drive/MyDrive/all_data.csv')\"\"\""
      ],
      "metadata": {
        "colab": {
          "base_uri": "https://localhost:8080/",
          "height": 660
        },
        "id": "DAgQQxYNt-4w",
        "outputId": "6b868142-5dd3-4da5-c40e-ae72df8c3863"
      },
      "execution_count": null,
      "outputs": [
        {
          "output_type": "stream",
          "name": "stdout",
          "text": [
            "Requirement already satisfied: finance-datareader in /usr/local/lib/python3.10/dist-packages (0.9.66)\n",
            "Requirement already satisfied: pandas>=0.19.2 in /usr/local/lib/python3.10/dist-packages (from finance-datareader) (1.5.3)\n",
            "Requirement already satisfied: requests>=2.3.0 in /usr/local/lib/python3.10/dist-packages (from finance-datareader) (2.31.0)\n",
            "Requirement already satisfied: requests-file in /usr/local/lib/python3.10/dist-packages (from finance-datareader) (1.5.1)\n",
            "Requirement already satisfied: lxml in /usr/local/lib/python3.10/dist-packages (from finance-datareader) (4.9.3)\n",
            "Requirement already satisfied: tqdm in /usr/local/lib/python3.10/dist-packages (from finance-datareader) (4.66.1)\n",
            "Requirement already satisfied: python-dateutil>=2.8.1 in /usr/local/lib/python3.10/dist-packages (from pandas>=0.19.2->finance-datareader) (2.8.2)\n",
            "Requirement already satisfied: pytz>=2020.1 in /usr/local/lib/python3.10/dist-packages (from pandas>=0.19.2->finance-datareader) (2023.3.post1)\n",
            "Requirement already satisfied: numpy>=1.21.0 in /usr/local/lib/python3.10/dist-packages (from pandas>=0.19.2->finance-datareader) (1.23.5)\n",
            "Requirement already satisfied: charset-normalizer<4,>=2 in /usr/local/lib/python3.10/dist-packages (from requests>=2.3.0->finance-datareader) (3.3.2)\n",
            "Requirement already satisfied: idna<4,>=2.5 in /usr/local/lib/python3.10/dist-packages (from requests>=2.3.0->finance-datareader) (3.6)\n",
            "Requirement already satisfied: urllib3<3,>=1.21.1 in /usr/local/lib/python3.10/dist-packages (from requests>=2.3.0->finance-datareader) (2.0.7)\n",
            "Requirement already satisfied: certifi>=2017.4.17 in /usr/local/lib/python3.10/dist-packages (from requests>=2.3.0->finance-datareader) (2023.11.17)\n",
            "Requirement already satisfied: six in /usr/local/lib/python3.10/dist-packages (from requests-file->finance-datareader) (1.16.0)\n"
          ]
        },
        {
          "output_type": "error",
          "ename": "MessageError",
          "evalue": "ignored",
          "traceback": [
            "\u001b[0;31m---------------------------------------------------------------------------\u001b[0m",
            "\u001b[0;31mMessageError\u001b[0m                              Traceback (most recent call last)",
            "\u001b[0;32m<ipython-input-52-fea0fc79eed5>\u001b[0m in \u001b[0;36m<cell line: 5>\u001b[0;34m()\u001b[0m\n\u001b[1;32m      3\u001b[0m \u001b[0mget_ipython\u001b[0m\u001b[0;34m(\u001b[0m\u001b[0;34m)\u001b[0m\u001b[0;34m.\u001b[0m\u001b[0msystem\u001b[0m\u001b[0;34m(\u001b[0m\u001b[0;34m'pip install finance-datareader'\u001b[0m\u001b[0;34m)\u001b[0m\u001b[0;34m\u001b[0m\u001b[0;34m\u001b[0m\u001b[0m\n\u001b[1;32m      4\u001b[0m \u001b[0;32mfrom\u001b[0m \u001b[0mgoogle\u001b[0m\u001b[0;34m.\u001b[0m\u001b[0mcolab\u001b[0m \u001b[0;32mimport\u001b[0m \u001b[0mdrive\u001b[0m\u001b[0;34m\u001b[0m\u001b[0;34m\u001b[0m\u001b[0m\n\u001b[0;32m----> 5\u001b[0;31m \u001b[0mdrive\u001b[0m\u001b[0;34m.\u001b[0m\u001b[0mmount\u001b[0m\u001b[0;34m(\u001b[0m\u001b[0;34m'/content/drive'\u001b[0m\u001b[0;34m)\u001b[0m\u001b[0;34m\u001b[0m\u001b[0;34m\u001b[0m\u001b[0m\n\u001b[0m\u001b[1;32m      6\u001b[0m \u001b[0mstart_date\u001b[0m \u001b[0;34m=\u001b[0m \u001b[0;34m'2023-01-01'\u001b[0m\u001b[0;34m\u001b[0m\u001b[0;34m\u001b[0m\u001b[0m\n\u001b[1;32m      7\u001b[0m \u001b[0;32mimport\u001b[0m \u001b[0mpandas\u001b[0m \u001b[0;32mas\u001b[0m \u001b[0mpd\u001b[0m\u001b[0;34m\u001b[0m\u001b[0;34m\u001b[0m\u001b[0m\n",
            "\u001b[0;32m/usr/local/lib/python3.10/dist-packages/google/colab/drive.py\u001b[0m in \u001b[0;36mmount\u001b[0;34m(mountpoint, force_remount, timeout_ms, readonly)\u001b[0m\n\u001b[1;32m     98\u001b[0m \u001b[0;32mdef\u001b[0m \u001b[0mmount\u001b[0m\u001b[0;34m(\u001b[0m\u001b[0mmountpoint\u001b[0m\u001b[0;34m,\u001b[0m \u001b[0mforce_remount\u001b[0m\u001b[0;34m=\u001b[0m\u001b[0;32mFalse\u001b[0m\u001b[0;34m,\u001b[0m \u001b[0mtimeout_ms\u001b[0m\u001b[0;34m=\u001b[0m\u001b[0;36m120000\u001b[0m\u001b[0;34m,\u001b[0m \u001b[0mreadonly\u001b[0m\u001b[0;34m=\u001b[0m\u001b[0;32mFalse\u001b[0m\u001b[0;34m)\u001b[0m\u001b[0;34m:\u001b[0m\u001b[0;34m\u001b[0m\u001b[0;34m\u001b[0m\u001b[0m\n\u001b[1;32m     99\u001b[0m   \u001b[0;34m\"\"\"Mount your Google Drive at the specified mountpoint path.\"\"\"\u001b[0m\u001b[0;34m\u001b[0m\u001b[0;34m\u001b[0m\u001b[0m\n\u001b[0;32m--> 100\u001b[0;31m   return _mount(\n\u001b[0m\u001b[1;32m    101\u001b[0m       \u001b[0mmountpoint\u001b[0m\u001b[0;34m,\u001b[0m\u001b[0;34m\u001b[0m\u001b[0;34m\u001b[0m\u001b[0m\n\u001b[1;32m    102\u001b[0m       \u001b[0mforce_remount\u001b[0m\u001b[0;34m=\u001b[0m\u001b[0mforce_remount\u001b[0m\u001b[0;34m,\u001b[0m\u001b[0;34m\u001b[0m\u001b[0;34m\u001b[0m\u001b[0m\n",
            "\u001b[0;32m/usr/local/lib/python3.10/dist-packages/google/colab/drive.py\u001b[0m in \u001b[0;36m_mount\u001b[0;34m(mountpoint, force_remount, timeout_ms, ephemeral, readonly)\u001b[0m\n\u001b[1;32m    127\u001b[0m   )\n\u001b[1;32m    128\u001b[0m   \u001b[0;32mif\u001b[0m \u001b[0mephemeral\u001b[0m\u001b[0;34m:\u001b[0m\u001b[0;34m\u001b[0m\u001b[0;34m\u001b[0m\u001b[0m\n\u001b[0;32m--> 129\u001b[0;31m     _message.blocking_request(\n\u001b[0m\u001b[1;32m    130\u001b[0m         \u001b[0;34m'request_auth'\u001b[0m\u001b[0;34m,\u001b[0m \u001b[0mrequest\u001b[0m\u001b[0;34m=\u001b[0m\u001b[0;34m{\u001b[0m\u001b[0;34m'authType'\u001b[0m\u001b[0;34m:\u001b[0m \u001b[0;34m'dfs_ephemeral'\u001b[0m\u001b[0;34m}\u001b[0m\u001b[0;34m,\u001b[0m \u001b[0mtimeout_sec\u001b[0m\u001b[0;34m=\u001b[0m\u001b[0;32mNone\u001b[0m\u001b[0;34m\u001b[0m\u001b[0;34m\u001b[0m\u001b[0m\n\u001b[1;32m    131\u001b[0m     )\n",
            "\u001b[0;32m/usr/local/lib/python3.10/dist-packages/google/colab/_message.py\u001b[0m in \u001b[0;36mblocking_request\u001b[0;34m(request_type, request, timeout_sec, parent)\u001b[0m\n\u001b[1;32m    174\u001b[0m       \u001b[0mrequest_type\u001b[0m\u001b[0;34m,\u001b[0m \u001b[0mrequest\u001b[0m\u001b[0;34m,\u001b[0m \u001b[0mparent\u001b[0m\u001b[0;34m=\u001b[0m\u001b[0mparent\u001b[0m\u001b[0;34m,\u001b[0m \u001b[0mexpect_reply\u001b[0m\u001b[0;34m=\u001b[0m\u001b[0;32mTrue\u001b[0m\u001b[0;34m\u001b[0m\u001b[0;34m\u001b[0m\u001b[0m\n\u001b[1;32m    175\u001b[0m   )\n\u001b[0;32m--> 176\u001b[0;31m   \u001b[0;32mreturn\u001b[0m \u001b[0mread_reply_from_input\u001b[0m\u001b[0;34m(\u001b[0m\u001b[0mrequest_id\u001b[0m\u001b[0;34m,\u001b[0m \u001b[0mtimeout_sec\u001b[0m\u001b[0;34m)\u001b[0m\u001b[0;34m\u001b[0m\u001b[0;34m\u001b[0m\u001b[0m\n\u001b[0m",
            "\u001b[0;32m/usr/local/lib/python3.10/dist-packages/google/colab/_message.py\u001b[0m in \u001b[0;36mread_reply_from_input\u001b[0;34m(message_id, timeout_sec)\u001b[0m\n\u001b[1;32m    101\u001b[0m     ):\n\u001b[1;32m    102\u001b[0m       \u001b[0;32mif\u001b[0m \u001b[0;34m'error'\u001b[0m \u001b[0;32min\u001b[0m \u001b[0mreply\u001b[0m\u001b[0;34m:\u001b[0m\u001b[0;34m\u001b[0m\u001b[0;34m\u001b[0m\u001b[0m\n\u001b[0;32m--> 103\u001b[0;31m         \u001b[0;32mraise\u001b[0m \u001b[0mMessageError\u001b[0m\u001b[0;34m(\u001b[0m\u001b[0mreply\u001b[0m\u001b[0;34m[\u001b[0m\u001b[0;34m'error'\u001b[0m\u001b[0;34m]\u001b[0m\u001b[0;34m)\u001b[0m\u001b[0;34m\u001b[0m\u001b[0;34m\u001b[0m\u001b[0m\n\u001b[0m\u001b[1;32m    104\u001b[0m       \u001b[0;32mreturn\u001b[0m \u001b[0mreply\u001b[0m\u001b[0;34m.\u001b[0m\u001b[0mget\u001b[0m\u001b[0;34m(\u001b[0m\u001b[0;34m'data'\u001b[0m\u001b[0;34m,\u001b[0m \u001b[0;32mNone\u001b[0m\u001b[0;34m)\u001b[0m\u001b[0;34m\u001b[0m\u001b[0;34m\u001b[0m\u001b[0m\n\u001b[1;32m    105\u001b[0m \u001b[0;34m\u001b[0m\u001b[0m\n",
            "\u001b[0;31mMessageError\u001b[0m: Error: credential propagation was unsuccessful"
          ]
        }
      ]
    }
  ],
  "metadata": {
    "colab": {
      "provenance": [],
      "mount_file_id": "1eCL7_wxwyz1rPO3Z-Vft6WeI8HhA7a7n",
      "authorship_tag": "ABX9TyMv/APjBn8U5yQEvFW8ROw2",
      "include_colab_link": true
    },
    "kernelspec": {
      "display_name": "Python 3",
      "name": "python3"
    },
    "language_info": {
      "name": "python"
    }
  },
  "nbformat": 4,
  "nbformat_minor": 0
}